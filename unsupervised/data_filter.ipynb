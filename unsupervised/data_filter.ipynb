{
 "cells": [
  {
   "cell_type": "code",
   "execution_count": 21,
   "metadata": {},
   "outputs": [],
   "source": [
    "import glob, os\n",
    "import librosa\n",
    "from pyAudioAnalysis import audioBasicIO as aIO\n",
    "from pyAudioAnalysis import audioSegmentation as aS\n",
    "import scipy.io.wavfile as wavfile\n",
    "import random"
   ]
  },
  {
   "cell_type": "code",
   "execution_count": 28,
   "metadata": {},
   "outputs": [],
   "source": [
    "# base_path = \"/home/bikram/Speech/DriData/data/\"\n",
    "# raw_path = base_path + \"raw/\"\n",
    "\n",
    "base_path = \"/home/deepak/Comp/asr_data_preprocessing_v2/\"\n",
    "raw_path = base_path + \"Full_Data/en-in/\"\n",
    "\n",
    "\n",
    "# dataset = \"Matsen/\"\n",
    "dataset = \"train/\"\n",
    "\n",
    "base_path = \"/home/deepak/Comp/asr_data_preprocessing_v2/\"\n",
    "\n",
    "processed_path = base_path + 'test_jugal_out/'\n",
    "\n",
    "dataset_path = base_path + \"RAW/\"  #raw_path+datasetdataset_path = base_path + \"\"  #\"RAW/\"  #raw_path+dataset"
   ]
  },
  {
   "cell_type": "code",
   "execution_count": 29,
   "metadata": {},
   "outputs": [],
   "source": [
    "def filtered_files(files_path):\n",
    "    os.chdir(files_path)\n",
    "    count = 0\n",
    "    in_files = []\n",
    "    out_files = []\n",
    "    for file in glob.glob(files_path + \"*\" + \".wav\"): #glob.glob(\"*/*.wav\"):\n",
    "        #print(file, os.path.getsize(file))\n",
    "        #All valid wav files\n",
    "        if os.path.getsize(file) >10:\n",
    "            if librosa.get_duration(filename=file) > 3.0:\n",
    "                #Filter all conversation where talk time is greater that 90 second\n",
    "                #print(file, librosa.get_duration(filename=file))\n",
    "                count = count + 1\n",
    "                if file.endswith('.wav'):\n",
    "                    in_files.append(file)\n",
    "                else:\n",
    "                    out_files.append(files_path + '/' + file)\n",
    "    print(\"count\",count, len(in_files), len(out_files))\n",
    "    return in_files, out_files"
   ]
  },
  {
   "cell_type": "code",
   "execution_count": 30,
   "metadata": {},
   "outputs": [
    {
     "name": "stdout",
     "output_type": "stream",
     "text": [
      "count 1 1 0\n"
     ]
    }
   ],
   "source": [
    "in_files, out_files = filtered_files(dataset_path)"
   ]
  },
  {
   "cell_type": "code",
   "execution_count": 31,
   "metadata": {},
   "outputs": [
    {
     "data": {
      "text/plain": [
       "1"
      ]
     },
     "execution_count": 31,
     "metadata": {},
     "output_type": "execute_result"
    }
   ],
   "source": [
    "in_files[0]\n",
    "len(in_files)"
   ]
  },
  {
   "cell_type": "code",
   "execution_count": 32,
   "metadata": {},
   "outputs": [],
   "source": [
    "def audio_segments(input_list):\n",
    "    merged_segments = []\n",
    "    \n",
    "    #Filter all list items which have audio duration less than 1 second\n",
    "    list_segments = list(filter(lambda x: x[1]-x[0] > 1.0, input_list))\n",
    "    \n",
    "    print(list(list_segments))\n",
    "\n",
    "    segment_count = len(list_segments)\n",
    "    start_idx = 0\n",
    "    #print(\"All_Segments\", segment_count)\n",
    "    \n",
    "    while start_idx < segment_count:\n",
    "        print(\"Start-\", start_idx)\n",
    "        n=0\n",
    "        total_duration = 0\n",
    "        audio_duration = 0\n",
    "        \n",
    "        while list_segments[n+start_idx][1] - list_segments[start_idx][0] < 11.0:\n",
    "\n",
    "            print(\"Val\", list_segments[n+start_idx][1] - list_segments[start_idx][0])\n",
    "\n",
    "            #early stop if we cross the file duration\n",
    "            if n + 1 + start_idx >= segment_count:\n",
    "                total_duration = -1\n",
    "                #print(\"break\", n + start_idx)\n",
    "                break\n",
    "            else:\n",
    "                n = n + 1\n",
    "\n",
    "        if total_duration < 0:\n",
    "            #print(\"Exit the file end\")\n",
    "            break\n",
    "\n",
    "            \n",
    "        total_duration = list_segments[n + start_idx][1] - list_segments[start_idx][0]\n",
    "                \n",
    "        index = start_idx\n",
    "        while index <= n + start_idx:\n",
    "            audio_duration = audio_duration + list_segments[index][1] - list_segments[index][0]\n",
    "            index += 1\n",
    "        \n",
    "        if audio_duration < 2 or total_duration > 29.5 or total_duration < 10.5:\n",
    "            start_idx = start_idx + 1\n",
    "            print(\"Audio duration low - increment start index\")\n",
    "            continue\n",
    "            \n",
    "            \n",
    "        merged_segments.append([list_segments[start_idx][0],list_segments[start_idx+n][1]])\n",
    "        \n",
    "        #print(\"Iter-\", start_idx, n, list_segments[start_idx:n + start_idx +1])\n",
    "        #print(\"Dur-\", total_duration, audio_duration,[list_segments[start_idx][0],list_segments[start_idx+n][1]])\n",
    "        \n",
    "        #if n ==0:\n",
    "        #    print(\"Current segment greater than 11\", list_segments[n+start_idx][1] - list_segments[start_idx][0])\n",
    "        \n",
    "        start_idx = start_idx + n + 1\n",
    "        \n",
    "    return merged_segments\n",
    "    "
   ]
  },
  {
   "cell_type": "code",
   "execution_count": 33,
   "metadata": {},
   "outputs": [],
   "source": [
    "def segment_file(file, outpath, only_audio = True, write_segment = True):\n",
    "    \n",
    "    filename = os.path.basename(file)\n",
    "    \n",
    "    [Fs, x] = aIO.read_audio_file(file)\n",
    "    print(Fs,x)\n",
    "    segments = aS.silence_removal(x, Fs, 0.05, 0.05, smooth_window = 1.0, weight = 0.3, plot = False)\n",
    "    \n",
    "    \n",
    "    filter_segments = []\n",
    "    if (only_audio == True):\n",
    "        #Only take segment greater than 3 seconds\n",
    "        filter_segments = list(filter(lambda x: x[1]-x[0] > 3.0 and x[1]-x[0] < 20.0, segments))\n",
    "    else:\n",
    "        filter_segments = audio_segments(segments)\n",
    "       \n",
    "    print(filename, filename[0:-4])\n",
    "    \n",
    "    if write_segment:\n",
    "        for i, s in enumerate(filter_segments):\n",
    "            print('Start:',s[0],s[1])\n",
    "            start_buffer = 2.0\n",
    "            end_buffer = 2.0\n",
    "            \n",
    "            if (s[0] > 2.0) :\n",
    "                #Silence prefix between  1 to 2 second\n",
    "                random_silence_prefix = random.random()\n",
    "                start_buffer = s[0] - start_buffer + random_silence_prefix\n",
    "            else:\n",
    "                start_buffer = s[0]\n",
    "            \n",
    "            end_buffer =s[1] + end_buffer\n",
    "            \n",
    "            \n",
    "            strOut = \"{0:}___{1:}_{2:.2f}-{3:.2f}_{4:.2f}.wav\".format(filename[0:-4], i, start_buffer, end_buffer, s[1]-s[0])\n",
    "            print(strOut)\n",
    "            try:\n",
    "                wavfile.write(outpath +  \"/\" + strOut, Fs, x[int(Fs * start_buffer):int(Fs * end_buffer)])\n",
    "            except:\n",
    "                print('Failed', strOut)\n",
    "    \n",
    "    return filter_segments\n",
    "    "
   ]
  },
  {
   "cell_type": "code",
   "execution_count": 34,
   "metadata": {},
   "outputs": [],
   "source": [
    "# fp = \"/home/bikram/Speech/DriData/data/raw/Matsen/04/918585010196_DMI011@MattsenKumar.com_2019-11-26-15-31-06-in.wav\"\n",
    "# segment_file(fp, processed_path, True)"
   ]
  },
  {
   "cell_type": "code",
   "execution_count": 35,
   "metadata": {},
   "outputs": [
    {
     "name": "stdout",
     "output_type": "stream",
     "text": [
      "============= /home/deepak/Comp/asr_data_preprocessing_v2/RAW/006568270132_6500_2017-11-09-12-19-59-out.wav\n",
      "8000 [8 8 8 ... 8 8 8]\n",
      "006568270132_6500_2017-11-09-12-19-59-out.wav 006568270132_6500_2017-11-09-12-19-59-out\n",
      "Start: 10.75 25.35\n",
      "006568270132_6500_2017-11-09-12-19-59-out___0_9.18-27.35_14.60.wav\n",
      "Start: 25.55 42.25\n",
      "006568270132_6500_2017-11-09-12-19-59-out___1_24.22-44.25_16.70.wav\n",
      "Start: 46.800000000000004 57.95\n",
      "006568270132_6500_2017-11-09-12-19-59-out___2_45.61-59.95_11.15.wav\n",
      "Start: 59.400000000000006 63.35\n",
      "006568270132_6500_2017-11-09-12-19-59-out___3_57.57-65.35_3.95.wav\n",
      "Start: 64.4 69.95\n",
      "006568270132_6500_2017-11-09-12-19-59-out___4_62.76-71.95_5.55.wav\n",
      "Start: 74.45 85.25\n",
      "006568270132_6500_2017-11-09-12-19-59-out___5_73.20-87.25_10.80.wav\n",
      "Start: 90.0 106.30000000000001\n",
      "006568270132_6500_2017-11-09-12-19-59-out___6_88.26-108.30_16.30.wav\n",
      "Start: 107.5 125.85000000000001\n",
      "006568270132_6500_2017-11-09-12-19-59-out___7_106.28-127.85_18.35.wav\n",
      "Start: 134.45000000000002 142.55\n",
      "006568270132_6500_2017-11-09-12-19-59-out___8_133.43-144.55_8.10.wav\n",
      "Start: 318.40000000000003 322.45000000000005\n",
      "006568270132_6500_2017-11-09-12-19-59-out___9_317.19-324.45_4.05.wav\n",
      "Start: 391.8 400.35\n",
      "006568270132_6500_2017-11-09-12-19-59-out___10_390.31-402.35_8.55.wav\n",
      "Start: 403.15000000000003 417.40000000000003\n",
      "006568270132_6500_2017-11-09-12-19-59-out___11_401.15-419.40_14.25.wav\n",
      "Start: 472.1 490.65000000000003\n",
      "006568270132_6500_2017-11-09-12-19-59-out___12_470.33-492.65_18.55.wav\n",
      "Start: 804.1500000000001 809.6\n",
      "006568270132_6500_2017-11-09-12-19-59-out___13_802.18-811.60_5.45.wav\n",
      "Start: 844.1 853.6\n",
      "006568270132_6500_2017-11-09-12-19-59-out___14_842.89-855.60_9.50.wav\n",
      "Start: 857.1500000000001 861.25\n",
      "006568270132_6500_2017-11-09-12-19-59-out___15_856.00-863.25_4.10.wav\n",
      "Start: 862.5500000000001 867.25\n",
      "006568270132_6500_2017-11-09-12-19-59-out___16_860.69-869.25_4.70.wav\n",
      "Start: 874.3000000000001 879.0\n",
      "006568270132_6500_2017-11-09-12-19-59-out___17_872.33-881.00_4.70.wav\n",
      "Start: 882.0 898.9000000000001\n",
      "006568270132_6500_2017-11-09-12-19-59-out___18_880.19-900.90_16.90.wav\n"
     ]
    }
   ],
   "source": [
    "only_audio = True\n",
    "def segment_files(files, processed_path):\n",
    "    for file in files:\n",
    "        print(\"=============\", file)\n",
    "        segment_file(file, processed_path, only_audio)\n",
    "\n",
    "segment_files(in_files, processed_path)\n"
   ]
  },
  {
   "cell_type": "code",
   "execution_count": 39,
   "metadata": {},
   "outputs": [
    {
     "name": "stdout",
     "output_type": "stream",
     "text": [
      "DONE\n"
     ]
    }
   ],
   "source": [
    "print('DONE')"
   ]
  },
  {
   "cell_type": "code",
   "execution_count": 11,
   "metadata": {},
   "outputs": [],
   "source": [
    "#segments = segment_file(in_files[0])"
   ]
  },
  {
   "cell_type": "code",
   "execution_count": 12,
   "metadata": {},
   "outputs": [],
   "source": [
    "#print(segments)"
   ]
  },
  {
   "cell_type": "code",
   "execution_count": 195,
   "metadata": {},
   "outputs": [
    {
     "name": "stdout",
     "output_type": "stream",
     "text": [
      "[(0, 5), (5.5, 31)]\n",
      "All_Segments 2\n",
      "Start- 0 SEGEMENT COUNT ::  2\n",
      "Start- 1 SEGEMENT COUNT ::  2\n"
     ]
    },
    {
     "data": {
      "text/plain": [
       "[[5.5, 31]]"
      ]
     },
     "execution_count": 195,
     "metadata": {},
     "output_type": "execute_result"
    }
   ],
   "source": [
    "audio_segments([(0, 5), (5,5.5), (5.5, 31)]) #,(20,200)])"
   ]
  },
  {
   "cell_type": "code",
   "execution_count": 196,
   "metadata": {},
   "outputs": [
    {
     "name": "stdout",
     "output_type": "stream",
     "text": [
      "[(0, 4), (4, 5.5), (5.5, 28)]\n",
      "All_Segments 3\n",
      "Start- 0 SEGEMENT COUNT ::  3\n"
     ]
    },
    {
     "data": {
      "text/plain": [
       "[[0, 28]]"
      ]
     },
     "execution_count": 196,
     "metadata": {},
     "output_type": "execute_result"
    }
   ],
   "source": [
    "audio_segments([(0, 4), (4,5.5), (5.5, 28)]) #,(20,200)])"
   ]
  },
  {
   "cell_type": "code",
   "execution_count": 197,
   "metadata": {},
   "outputs": [
    {
     "name": "stdout",
     "output_type": "stream",
     "text": [
      "[(0, 12), (12.5, 50)]\n",
      "All_Segments 2\n",
      "Start- 0 SEGEMENT COUNT ::  2\n",
      "Start- 1 SEGEMENT COUNT ::  2\n"
     ]
    },
    {
     "data": {
      "text/plain": [
       "[[0, 12]]"
      ]
     },
     "execution_count": 197,
     "metadata": {},
     "output_type": "execute_result"
    }
   ],
   "source": [
    "audio_segments([(0, 12), (12,12.5), (12.5, 50)]) #,(20,200)])"
   ]
  },
  {
   "cell_type": "code",
   "execution_count": 198,
   "metadata": {},
   "outputs": [
    {
     "name": "stdout",
     "output_type": "stream",
     "text": [
      "[(0, 4), (4, 5.5), (5.5, 29)]\n",
      "All_Segments 3\n",
      "Start- 0 SEGEMENT COUNT ::  3\n"
     ]
    },
    {
     "data": {
      "text/plain": [
       "[[0, 29]]"
      ]
     },
     "execution_count": 198,
     "metadata": {},
     "output_type": "execute_result"
    }
   ],
   "source": [
    "audio_segments([(0, 4), (4,5.5), (5.5, 29)]) #,(20,200)])"
   ]
  },
  {
   "cell_type": "code",
   "execution_count": 201,
   "metadata": {},
   "outputs": [
    {
     "name": "stdout",
     "output_type": "stream",
     "text": [
      "[(0, 4), (14, 15.5), (16, 44)]\n",
      "All_Segments 3\n",
      "Start- 0 SEGEMENT COUNT ::  3\n",
      "DUR IS UNDER 11 ==> CURRENT n =  0 CURR START_INDEX ::  0\n",
      "Val 4 0 DIFF ::  4\n",
      "n incremented -------- False\n",
      "CALUCALTING TOTAL DUR when n = 1 and start_idx is  0 IS ::  15.5\n",
      "INDEX ::  1 STRT_IDX ::  0 True\n",
      "INDEX ::  2 STRT_IDX ::  0 False\n",
      "Iter- 0 1 [(0, 4), (14, 15.5)]\n",
      "Start- 2 SEGEMENT COUNT ::  3\n",
      "CALUCALTING TOTAL DUR when n = 0 and start_idx is  2 IS ::  28\n",
      "INDEX ::  3 STRT_IDX ::  2 False\n",
      "Iter- 2 0 [(16, 44)]\n"
     ]
    },
    {
     "data": {
      "text/plain": [
       "[[0, 15.5], [16, 44]]"
      ]
     },
     "execution_count": 201,
     "metadata": {},
     "output_type": "execute_result"
    }
   ],
   "source": [
    "audio_segments([(0, 4),(14,15.5), (15.5, 16), (16, 44)])"
   ]
  },
  {
   "cell_type": "code",
   "execution_count": null,
   "metadata": {},
   "outputs": [],
   "source": []
  },
  {
   "cell_type": "code",
   "execution_count": null,
   "metadata": {},
   "outputs": [],
   "source": []
  }
 ],
 "metadata": {
  "kernelspec": {
   "display_name": "Python 3",
   "language": "python",
   "name": "python3"
  },
  "language_info": {
   "codemirror_mode": {
    "name": "ipython",
    "version": 3
   },
   "file_extension": ".py",
   "mimetype": "text/x-python",
   "name": "python",
   "nbconvert_exporter": "python",
   "pygments_lexer": "ipython3",
   "version": "3.8.5"
  }
 },
 "nbformat": 4,
 "nbformat_minor": 4
}
