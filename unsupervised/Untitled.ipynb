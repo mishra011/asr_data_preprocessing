{
 "cells": [
  {
   "cell_type": "code",
   "execution_count": 3,
   "id": "radical-action",
   "metadata": {},
   "outputs": [],
   "source": [
    "def get_total_duration(current_index, base_index, segments):\n",
    "    dur = segments[current_index + base_index][1] - segments[base_index][0]\n",
    "    print(\"total_duration :: \", dur)\n",
    "    return dur\n",
    "\n",
    "\n",
    "def get_audio_duration(current_index, base_index, segments):\n",
    "    audio_duration = 0\n",
    "    index = base_index\n",
    "    while index <= current_index + base_index:\n",
    "        audio_duration = audio_duration + segments[index][1] - segments[index][0]\n",
    "        index += 1\n",
    "    print(\"audio_duration :: \", audio_duration)\n",
    "    return audio_duration\n",
    "\n",
    "def get_current_duration(current_index, base_index, segments):\n",
    "    return segments[current_index+base_index][1] - segments[base_index][0]\n",
    "\n",
    "def audio_finished(current_index, base_index, segment_count):\n",
    "    finish = False\n",
    "    \n",
    "    if current_index + 1 + base_index >= segment_count:\n",
    "        finish = True\n",
    "    return finish\n",
    "\n",
    "def valid_duration(audio_duration, total_duration):\n",
    "    valid = True\n",
    "    if audio_duration < 2 or total_duration > 29.5 or total_duration < 10.5:\n",
    "        valid = False\n",
    "    \n",
    "    return valid\n",
    "\n",
    "\n",
    "\n",
    "def audio_segments(input_list):\n",
    "    merged_segments = []\n",
    "    \n",
    "    #Filter all list items which have audio duration less than 1 second\n",
    "    segments = list(filter(lambda x: x[1]-x[0] > 1.0, input_list))\n",
    "    \n",
    "    print(\"SEGMENTS :: \",list(segments))\n",
    "\n",
    "    segment_count = len(segments)\n",
    "    base_index = 0\n",
    "    print(\"Total Segments :: \", segment_count)\n",
    "    \n",
    "    while base_index < segment_count:\n",
    "        print(\" ############## Start-\", base_index, \"###############\")\n",
    "        current_index=0\n",
    "        total_duration = 0\n",
    "        audio_duration = 0\n",
    "        print(\"BASE SEGMENT :: \", segments[base_index])\n",
    "        \n",
    "        print(\"CURRENT SEGMENT :: \", segments[current_index])\n",
    "        \n",
    "        while get_current_duration(current_index, base_index, segments) < 11.0:\n",
    "\n",
    "            if audio_finished(current_index, base_index, segment_count):\n",
    "                print(\"AUDIO FINISHED\")\n",
    "                total_duration = -1\n",
    "                break\n",
    "            else:\n",
    "                current_index +=1\n",
    "            print(\"UPDATED CURRENT SEGMENT :: \", segments[current_index])\n",
    "            \n",
    "\n",
    "        if total_duration < 0:\n",
    "            print(\"Exit the file end\", total_duration)\n",
    "            break\n",
    "\n",
    "        total_duration = get_total_duration(current_index, base_index, segments)\n",
    "\n",
    "        audio_duration = get_audio_duration(current_index, base_index, segments)\n",
    "\n",
    "        if valid_duration(audio_duration, total_duration):\n",
    "            merged_segments.append([segments[base_index][0],segments[base_index+current_index][1]])\n",
    "            base_index = base_index + current_index + 1\n",
    "            print(\"FULL JUMP\")\n",
    "        else:\n",
    "            base_index = base_index + 1\n",
    "            print(\"STEP UP\")\n",
    "            \n",
    "        \n",
    "    return merged_segments"
   ]
  },
  {
   "cell_type": "code",
   "execution_count": 4,
   "id": "scientific-primary",
   "metadata": {},
   "outputs": [
    {
     "name": "stdout",
     "output_type": "stream",
     "text": [
      "SEGMENTS ::  [(0, 4), (4, 7), (7, 14), (14, 15.5), (16, 44)]\n",
      "Total Segments ::  5\n",
      " ############## Start- 0 ###############\n",
      "BASE SEGMENT ::  (0, 4)\n",
      "CURRENT SEGMENT ::  (0, 4)\n",
      "UPDATED CURRENT SEGMENT ::  (4, 7)\n",
      "UPDATED CURRENT SEGMENT ::  (7, 14)\n",
      "total_duration ::  14\n",
      "audio_duration ::  14\n",
      "FULL JUMP\n",
      " ############## Start- 3 ###############\n",
      "BASE SEGMENT ::  (14, 15.5)\n",
      "CURRENT SEGMENT ::  (0, 4)\n",
      "UPDATED CURRENT SEGMENT ::  (4, 7)\n",
      "total_duration ::  30\n",
      "audio_duration ::  29.5\n",
      "STEP UP\n",
      " ############## Start- 4 ###############\n",
      "BASE SEGMENT ::  (16, 44)\n",
      "CURRENT SEGMENT ::  (0, 4)\n",
      "total_duration ::  28\n",
      "audio_duration ::  28\n",
      "FULL JUMP\n"
     ]
    },
    {
     "data": {
      "text/plain": [
       "[[0, 14], [16, 44]]"
      ]
     },
     "execution_count": 4,
     "metadata": {},
     "output_type": "execute_result"
    }
   ],
   "source": [
    "audio_segments([(0, 4),(4,7),(7,14),(14,15.5), (15.5, 16), (16, 44)])"
   ]
  },
  {
   "cell_type": "code",
   "execution_count": 5,
   "id": "posted-advocacy",
   "metadata": {},
   "outputs": [
    {
     "name": "stdout",
     "output_type": "stream",
     "text": [
      "SEGMENTS ::  [(0, 4), (4, 14), (14, 16.5), (17, 44)]\n",
      "Total Segments ::  4\n",
      " ############## Start- 0 ###############\n",
      "BASE SEGMENT ::  (0, 4)\n",
      "CURRENT SEGMENT ::  (0, 4)\n",
      "UPDATED CURRENT SEGMENT ::  (4, 14)\n",
      "total_duration ::  14\n",
      "audio_duration ::  14\n",
      "FULL JUMP\n",
      " ############## Start- 2 ###############\n",
      "BASE SEGMENT ::  (14, 16.5)\n",
      "CURRENT SEGMENT ::  (0, 4)\n",
      "UPDATED CURRENT SEGMENT ::  (4, 14)\n",
      "total_duration ::  30\n",
      "audio_duration ::  29.5\n",
      "STEP UP\n",
      " ############## Start- 3 ###############\n",
      "BASE SEGMENT ::  (17, 44)\n",
      "CURRENT SEGMENT ::  (0, 4)\n",
      "total_duration ::  27\n",
      "audio_duration ::  27\n",
      "FULL JUMP\n"
     ]
    },
    {
     "data": {
      "text/plain": [
       "[[0, 14], [17, 44]]"
      ]
     },
     "execution_count": 5,
     "metadata": {},
     "output_type": "execute_result"
    }
   ],
   "source": [
    "audio_segments([(0, 4),(4,14),(14,16.5), (16.5, 17), (17, 44)])"
   ]
  },
  {
   "cell_type": "code",
   "execution_count": 7,
   "id": "special-lottery",
   "metadata": {},
   "outputs": [
    {
     "name": "stdout",
     "output_type": "stream",
     "text": [
      "SEGMENTS ::  [(0, 4), (5, 14), (14, 17), (17, 20), (20, 29), (29, 41)]\n",
      "Total Segments ::  6\n",
      " ############## Start- 0 ###############\n",
      "BASE SEGMENT ::  (0, 4)\n",
      "CURRENT SEGMENT ::  (0, 4)\n",
      "UPDATED CURRENT SEGMENT ::  (5, 14)\n",
      "FULL JUMP\n",
      " ############## Start- 2 ###############\n",
      "BASE SEGMENT ::  (14, 17)\n",
      "CURRENT SEGMENT ::  (0, 4)\n",
      "UPDATED CURRENT SEGMENT ::  (5, 14)\n",
      "UPDATED CURRENT SEGMENT ::  (14, 17)\n",
      "FULL JUMP\n",
      " ############## Start- 5 ###############\n",
      "BASE SEGMENT ::  (29, 41)\n",
      "CURRENT SEGMENT ::  (0, 4)\n",
      "FULL JUMP\n"
     ]
    },
    {
     "data": {
      "text/plain": [
       "[[0, 14], [14, 29], [29, 41]]"
      ]
     },
     "execution_count": 7,
     "metadata": {},
     "output_type": "execute_result"
    }
   ],
   "source": [
    "audio_segments([(0,4),(4,5),(5,14),(14,17),(17,20),(20, 29),(29,41)])"
   ]
  },
  {
   "cell_type": "code",
   "execution_count": null,
   "id": "incomplete-saint",
   "metadata": {},
   "outputs": [],
   "source": []
  }
 ],
 "metadata": {
  "kernelspec": {
   "display_name": "Python 3",
   "language": "python",
   "name": "python3"
  },
  "language_info": {
   "codemirror_mode": {
    "name": "ipython",
    "version": 3
   },
   "file_extension": ".py",
   "mimetype": "text/x-python",
   "name": "python",
   "nbconvert_exporter": "python",
   "pygments_lexer": "ipython3",
   "version": "3.8.5"
  }
 },
 "nbformat": 4,
 "nbformat_minor": 5
}
